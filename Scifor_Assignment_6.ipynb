{
 "cells": [
  {
   "cell_type": "code",
   "execution_count": 4,
   "id": "7f1da909",
   "metadata": {},
   "outputs": [
    {
     "name": "stdout",
     "output_type": "stream",
     "text": [
      "0.9351910953160458\n",
      "\n",
      "\n",
      "[0, 1]\n",
      "\n",
      "\n",
      "[2.0, 0.0]\n",
      "\n",
      "\n",
      "False\n",
      "\n",
      "\n",
      "19\n",
      "\n",
      "\n",
      "[2.0, 0.0]\n",
      "[0, 1]\n",
      "\n",
      "\n",
      "0.8317032259706488\n"
     ]
    }
   ],
   "source": [
    "import random\n",
    "from typing import List\n",
    "\n",
    "class SampleEnvironment:\n",
    "    def __init__(self):\n",
    "        self.steps_left = 20\n",
    "    \n",
    "    def get_observation(self):\n",
    "        return [2.0,0.0]\n",
    "    \n",
    "    def get_actions(self):\n",
    "        return [0,1]\n",
    "    \n",
    "    def is_done(self):\n",
    "        return self.steps_left == 0\n",
    "    \n",
    "    def action(self,action:int):\n",
    "        if self.is_done():\n",
    "            raise Exception(\"game is over\")\n",
    "        self.steps_left -= 1\n",
    "        return random.random()\n",
    "\n",
    "env = SampleEnvironment()\n",
    "print(env.action(4))\n",
    "print(\"\\n\")\n",
    "print(env.get_actions())\n",
    "print(\"\\n\")\n",
    "print(env.get_observation())\n",
    "print(\"\\n\")\n",
    "print(env.is_done())\n",
    "print(\"\\n\")\n",
    "print(env.steps_left)\n",
    "\n",
    "class Agent:\n",
    "    def __init__(self):\n",
    "        self.total_reward = 0.0\n",
    "\n",
    "    def step(self, env: SampleEnvironment):\n",
    "        current_obs = env.get_observation()\n",
    "        print(current_obs)\n",
    "\n",
    "        actions = env.get_actions()\n",
    "        print(actions)\n",
    "\n",
    "        action = random.choice(actions)\n",
    "        reward = env.action(action)\n",
    "        self.total_reward += reward\n",
    "ag = Agent()\n",
    "print(\"\\n\")\n",
    "ag.step(env)\n",
    "print(\"\\n\")\n",
    "print(ag.total_reward)\n",
    "\n"
   ]
  },
  {
   "cell_type": "code",
   "execution_count": null,
   "id": "7be2d526",
   "metadata": {},
   "outputs": [],
   "source": []
  }
 ],
 "metadata": {
  "kernelspec": {
   "display_name": "Python 3 (ipykernel)",
   "language": "python",
   "name": "python3"
  },
  "language_info": {
   "codemirror_mode": {
    "name": "ipython",
    "version": 3
   },
   "file_extension": ".py",
   "mimetype": "text/x-python",
   "name": "python",
   "nbconvert_exporter": "python",
   "pygments_lexer": "ipython3",
   "version": "3.9.13"
  }
 },
 "nbformat": 4,
 "nbformat_minor": 5
}
