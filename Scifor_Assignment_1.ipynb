{
 "cells": [
  {
   "cell_type": "code",
   "execution_count": 1,
   "id": "afac0d56",
   "metadata": {},
   "outputs": [
    {
     "name": "stdout",
     "output_type": "stream",
     "text": [
      "0           100\n",
      "1           200\n",
      "2           300\n",
      "3           400\n",
      "4           500\n",
      "         ...   \n",
      "9995     999600\n",
      "9996     999700\n",
      "9997     999800\n",
      "9998     999900\n",
      "9999    1000000\n",
      "Length: 10000, dtype: int32\n"
     ]
    }
   ],
   "source": [
    "# Question_1\n",
    "\n",
    "import numpy as np\n",
    "import pandas as pd\n",
    "\n",
    "values = np.arange(1, 10001) * 100\n",
    "\n",
    "series = pd.Series(values)\n",
    "\n",
    "print(series)\n",
    "\n",
    "#pd.set_option(\"display.max_row\",None) ---- display all the rows\n"
   ]
  },
  {
   "cell_type": "code",
   "execution_count": 3,
   "id": "db3ec8bc",
   "metadata": {},
   "outputs": [
    {
     "name": "stdout",
     "output_type": "stream",
     "text": [
      "Category Data:\n",
      "      Category  Quantity\n",
      "0  Electronics       110\n",
      "1     Clothing       250\n",
      "2      Kitchen       170\n",
      "3        Books       290\n",
      "4       Sports       140\n",
      "\n",
      "Sub-Category Data:\n",
      "        Sub-Category  Quantity\n",
      "0        Smartphones        90\n",
      "1            Laptops        50\n",
      "2           T-Shirts       150\n",
      "3           Cookware       130\n",
      "4  Fitness Equipment       250\n"
     ]
    }
   ],
   "source": [
    "# Question_2\n",
    "\n",
    "import pandas as pd\n",
    "\n",
    "category_data = {\"Category\":[\"Electronics\",\"Clothing\",\"Kitchen\",\"Books\",\"Sports\"],\"Quantity\":[110,250,170,290,140]}\n",
    "\n",
    "sub_category_data = {\"Sub-Category\":[\"Smartphones\",\"Laptops\",\"T-Shirts\",\"Cookware\",\"Fitness Equipment\"],\n",
    "                     \"Quantity\":[90,50,150,130,250]}\n",
    "\n",
    "category_df = pd.DataFrame(category_data)\n",
    "sub_category_df = pd.DataFrame(sub_category_data)\n",
    "\n",
    "print(\"Category Data:\")\n",
    "print(category_df)\n",
    "\n",
    "print(\"\\nSub-Category Data:\")\n",
    "print(sub_category_df)\n"
   ]
  },
  {
   "cell_type": "code",
   "execution_count": 4,
   "id": "1f44aa89",
   "metadata": {},
   "outputs": [
    {
     "name": "stdout",
     "output_type": "stream",
     "text": [
      "   column_1\n",
      "0       110\n",
      "1       105\n",
      "2       112\n",
      "3       106\n",
      "4       113\n",
      "5       107\n",
      "6        85\n",
      "7        86\n",
      "8        87\n"
     ]
    }
   ],
   "source": [
    "# Question_3\n",
    "\n",
    "import pandas as pd\n",
    "\n",
    "values={\"column_1\":[110,105,112,106,113,107,85,86,87]}\n",
    "\n",
    "df=pd.DataFrame(values)\n",
    "\n",
    "print(df)"
   ]
  },
  {
   "cell_type": "code",
   "execution_count": 5,
   "id": "3bfbfd97",
   "metadata": {},
   "outputs": [
    {
     "name": "stdout",
     "output_type": "stream",
     "text": [
      "   Annual Income  Annual Expenditure  Annual Savings\n",
      "0          50000               35000           15000\n",
      "1          55000               40000           15000\n",
      "2          65000               42000           23000\n",
      "3          75000               48000           27000\n",
      "4          78000               50000           28000\n"
     ]
    }
   ],
   "source": [
    "import pandas as pd\n",
    "\n",
    "annual_income = pd.Series([50000,55000,65000,75000,78000])\n",
    "annual_expenditure = pd.Series([35000,40000,42000,48000,50000])\n",
    "annual_savings = annual_income - annual_expenditure\n",
    "\n",
    "data = {'Annual Income': annual_income,'Annual Expenditure': annual_expenditure,'Annual Savings': annual_savings}\n",
    "\n",
    "df = pd.DataFrame(data)\n",
    "\n",
    "print(df)\n"
   ]
  },
  {
   "cell_type": "code",
   "execution_count": null,
   "id": "6576596a",
   "metadata": {},
   "outputs": [],
   "source": []
  }
 ],
 "metadata": {
  "kernelspec": {
   "display_name": "Python 3 (ipykernel)",
   "language": "python",
   "name": "python3"
  },
  "language_info": {
   "codemirror_mode": {
    "name": "ipython",
    "version": 3
   },
   "file_extension": ".py",
   "mimetype": "text/x-python",
   "name": "python",
   "nbconvert_exporter": "python",
   "pygments_lexer": "ipython3",
   "version": "3.9.13"
  }
 },
 "nbformat": 4,
 "nbformat_minor": 5
}
