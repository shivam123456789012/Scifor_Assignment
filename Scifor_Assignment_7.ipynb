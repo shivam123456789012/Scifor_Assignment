{
 "cells": [
  {
   "cell_type": "code",
   "execution_count": 3,
   "id": "72fd7b51",
   "metadata": {},
   "outputs": [
    {
     "name": "stderr",
     "output_type": "stream",
     "text": [
      "C:\\Users\\UJJWAL GARG\\Desktop\\by\\ana\\lib\\site-packages\\scipy\\__init__.py:155: UserWarning: A NumPy version >=1.18.5 and <1.25.0 is required for this version of SciPy (detected version 1.26.2\n",
      "  warnings.warn(f\"A NumPy version >={np_minversion} and <{np_maxversion}\"\n"
     ]
    },
    {
     "name": "stdout",
     "output_type": "stream",
     "text": [
      "WARNING:tensorflow:From C:\\Users\\UJJWAL GARG\\Desktop\\by\\ana\\lib\\site-packages\\keras\\src\\losses.py:2976: The name tf.losses.sparse_softmax_cross_entropy is deprecated. Please use tf.compat.v1.losses.sparse_softmax_cross_entropy instead.\n",
      "\n"
     ]
    }
   ],
   "source": [
    "import cv2\n",
    "import mediapipe as mp"
   ]
  },
  {
   "cell_type": "code",
   "execution_count": 4,
   "id": "7b80d401",
   "metadata": {},
   "outputs": [],
   "source": [
    "from google.protobuf.json_format import MessageToDict"
   ]
  },
  {
   "cell_type": "code",
   "execution_count": 5,
   "id": "84312792",
   "metadata": {},
   "outputs": [],
   "source": [
    "mph=mp.solutions.hands\n",
    "hands=mph.Hands(\n",
    "    static_image_mode=False,\n",
    "    model_complexity=1,\n",
    "    min_detection_confidence=0.70,\n",
    "    min_tracking_confidence=0.80,\n",
    "    max_num_hands=2\n",
    "        )"
   ]
  },
  {
   "cell_type": "code",
   "execution_count": 6,
   "id": "7d35e021",
   "metadata": {},
   "outputs": [],
   "source": [
    "cap=cv2.VideoCapture(0)\n",
    "while True:\n",
    "    success,img=cap.read()\n",
    "    img=cv2.flip(img,1)\n",
    "    imgRGB=cv2.cvtColor(img,cv2.COLOR_BGR2RGB)\n",
    "    results=hands.process(imgRGB)\n",
    "    \n",
    "    if results.multi_hand_landmarks:\n",
    "        if len(results.multi_hand_landmarks)==2:\n",
    "            cv2.putText(img,\"both hands\",(250,50),\n",
    "                       cv2.FONT_HERSHEY_COMPLEX,0.85,\n",
    "                       (0,255,0),2)\n",
    "        else:\n",
    "            for i in results.multi_handedness:\n",
    "                label=MessageToDict(i)[\"classification\"][0][\"label\"]\n",
    "                \n",
    "                if label==\"Left\":\n",
    "                    cv2.putText(img,label+\"hand\",(22,50),\n",
    "                               cv2.FONT_HERSHEY_COMPLEX,0.85,\n",
    "                               (0,255,0),2)\n",
    "                if label==\"Right\":\n",
    "                    cv2.putText(img,label+\"hand\",(450,50),\n",
    "                               cv2.FONT_HERSHEY_COMPLEX,0.85,\n",
    "                               (0,255,0),2)\n",
    "    cv2.imshow(\"Image\",img)\n",
    "    if cv2.waitKey(1) & 0Xff == ord(\"q\"):\n",
    "        break\n",
    "cap.release()\n",
    "cv2.destroyAllWindows()"
   ]
  },
  {
   "cell_type": "code",
   "execution_count": null,
   "id": "f89900d8",
   "metadata": {},
   "outputs": [],
   "source": []
  }
 ],
 "metadata": {
  "kernelspec": {
   "display_name": "Python 3 (ipykernel)",
   "language": "python",
   "name": "python3"
  },
  "language_info": {
   "codemirror_mode": {
    "name": "ipython",
    "version": 3
   },
   "file_extension": ".py",
   "mimetype": "text/x-python",
   "name": "python",
   "nbconvert_exporter": "python",
   "pygments_lexer": "ipython3",
   "version": "3.9.13"
  }
 },
 "nbformat": 4,
 "nbformat_minor": 5
}
